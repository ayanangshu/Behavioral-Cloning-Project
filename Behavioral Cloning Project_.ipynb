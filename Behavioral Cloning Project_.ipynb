{
 "cells": [
  {
   "cell_type": "code",
   "execution_count": 1,
   "metadata": {
    "collapsed": false,
    "deletable": true,
    "editable": true
   },
   "outputs": [
    {
     "ename": "SyntaxError",
     "evalue": "invalid syntax (<ipython-input-1-6dd83ace588a>, line 77)",
     "output_type": "error",
     "traceback": [
      "\u001b[0;36m  File \u001b[0;32m\"<ipython-input-1-6dd83ace588a>\"\u001b[0;36m, line \u001b[0;32m77\u001b[0m\n\u001b[0;31m    model.add(Convolution2D(64,3,3,activation=\"relu\")\u001b[0m\n\u001b[0m        ^\u001b[0m\n\u001b[0;31mSyntaxError\u001b[0m\u001b[0;31m:\u001b[0m invalid syntax\n"
     ]
    }
   ],
   "source": [
    "import csv\n",
    "import cv2\n",
    "import numpy as np\n",
    "\n",
    "def gatherRecords(dir,images,measurements):\n",
    "    lines=[]\n",
    "    csvPath = dir + '/driving_log.csv'\n",
    "    with open(csvPath) as csvfile:\n",
    "        reader=csv.reader(csvfile)\n",
    "        for line in reader:\n",
    "            lines.append(line)\n",
    "\n",
    "    \n",
    "    for line in lines:\n",
    "        source_path=line[0]\n",
    "        filename=source_path.split('/')[-1]\n",
    "        current_path= dir + '/IMG/' + filename\n",
    "        image=cv2.imread(current_path)\n",
    "        images.append(image)\n",
    "        measurement=float(line[3])\n",
    "        measurements.append(measurement)\n",
    "        \n",
    "        '''        \n",
    "        #Left Image\n",
    "        source_path=line[1]\n",
    "        filename=source_path.split('/')[-1]\n",
    "        current_path= dir + '/IMG/' + filename\n",
    "        left_image=cv2.imread(current_path)\n",
    "        \n",
    "        #Right Image\n",
    "        source_path=line[2]\n",
    "        filename=source_path.split('/')[-1]\n",
    "        current_path= dir + '/IMG/' + filename\n",
    "        right_image=cv2.imread(current_path)\n",
    "        \n",
    "        #Add Left and Right Images\n",
    "        correction=0.15\n",
    "        images.append(left_image)\n",
    "        measurements.append(measurement+correction)\n",
    "        images.append(right_image)\n",
    "        measurements.append(measurement-correction)\n",
    "      '''  \n",
    "        #Flipped Images\n",
    "        image = np.fliplr(image)\n",
    "        measurement = -measurement\n",
    "        images.append(image)\n",
    "        measurements.append(measurement)\n",
    "    \n",
    "    return images,measurements\n",
    "                \n",
    "images=[]\n",
    "measurements=[]\n",
    "\n",
    "images,measurements=gatherRecords('data',images,measurements)\n",
    "#images,measurements=gatherRecords('Training_Data1',images,measurements)\n",
    "#images,measurements=gatherRecords('Backward_Data',images,measurements)\n",
    "\n",
    "   \n",
    "X_train=np.array(images)\n",
    "y_train=np.array(measurements)\n",
    "\n",
    "from keras.models import Sequential\n",
    "from keras.layers import Flatten,Dense,Lambda,Dropout,Activation\n",
    "from keras.layers.convolutional import Convolution2D\n",
    "from keras.layers.pooling import MaxPooling2D\n",
    "from keras.layers.convolutional import Cropping2D\n",
    "\n",
    "model=Sequential()\n",
    "\n",
    "\n",
    "model.add(Lambda(lambda x: (x / 255.0) - 0.5, input_shape=(160, 320, 3)))\n",
    "model.add(Cropping2D(cropping=((70, 25), (0, 0)),input_shape=(160,320,3)))\n",
    "model.add(Convolution2D(24, 5, 5,subsample=(2,2),activation=\"relu\"))\n",
    "model.add(Convolution2D(36, 5, 5,subsample=(2,2),activation=\"relu\"))\n",
    "model.add(Convolution2D(48, 5, 5,subsample=(2,2),activation=\"relu\"))\n",
    "model.add(Convolution2D(64,3,3,activation=\"relu\")\n",
    "model.add(Convolution2D(64,3,3,activation=\"relu\")\n",
    "model.add(Convolution2D(64,3,3,activation=\"relu\")\n",
    "#model.add(MaxPooling2D())\n",
    "#model.add(Dropout(0.5))\n",
    "#model.add(Activation('relu'))\n",
    "\n",
    "#model.add(MaxPooling2D())\n",
    "#model.add(Dropout(0.5))\n",
    "\n",
    "#model.add(MaxPooling2D())\n",
    "model.add(Flatten())\n",
    "model.add(Dense(120))\n",
    "#model.add(Activation('relu'))\n",
    "model.add(Dense(84))\n",
    "#model.add(Activation('relu'))\n",
    "model.add(Dense(1))\n",
    "\n",
    "model.summary()\n",
    "\n",
    "\n",
    "model.compile(loss='mse',optimizer='adam')\n",
    "\n",
    "model.fit(X_train,y_train,validation_split=0.2,shuffle=True,nb_epoch=1)\n",
    "\n",
    "model.save('model_newest1.h5')"
   ]
  },
  {
   "cell_type": "code",
   "execution_count": null,
   "metadata": {
    "collapsed": false,
    "deletable": true,
    "editable": true
   },
   "outputs": [],
   "source": [
    "    "
   ]
  },
  {
   "cell_type": "code",
   "execution_count": null,
   "metadata": {
    "collapsed": true,
    "deletable": true,
    "editable": true
   },
   "outputs": [],
   "source": []
  }
 ],
 "metadata": {
  "anaconda-cloud": {},
  "kernelspec": {
   "display_name": "Python [default]",
   "language": "python",
   "name": "python3"
  },
  "language_info": {
   "codemirror_mode": {
    "name": "ipython",
    "version": 3
   },
   "file_extension": ".py",
   "mimetype": "text/x-python",
   "name": "python",
   "nbconvert_exporter": "python",
   "pygments_lexer": "ipython3",
   "version": "3.5.2"
  }
 },
 "nbformat": 4,
 "nbformat_minor": 2
}
